{
 "cells": [
  {
   "cell_type": "code",
   "execution_count": 1,
   "id": "1fe20288",
   "metadata": {},
   "outputs": [
    {
     "name": "stdout",
     "output_type": "stream",
     "text": [
      "Warp 1.0.0-beta.6 initialized:\n",
      "   CUDA Toolkit: 12.4, Driver: 12.4\n",
      "   Devices:\n",
      "     \"cpu\"    | x86_64\n",
      "     \"cuda:0\" | NVIDIA A100-SXM4-80GB (sm_80)\n",
      "     \"cuda:1\" | NVIDIA A100-SXM4-80GB (sm_80)\n",
      "     \"cuda:2\" | NVIDIA A100-SXM4-80GB (sm_80)\n",
      "     \"cuda:3\" | NVIDIA A100-SXM4-80GB (sm_80)\n",
      "     \"cuda:4\" | NVIDIA A100-SXM4-80GB (sm_80)\n",
      "     \"cuda:5\" | NVIDIA A100-SXM4-80GB (sm_80)\n",
      "     \"cuda:6\" | NVIDIA A100-SXM4-80GB (sm_80)\n",
      "     \"cuda:7\" | NVIDIA A100-SXM4-80GB (sm_80)\n",
      "   Kernel cache: /data/lixinag/.cache/warp/1.0.0-beta.6\n"
     ]
    }
   ],
   "source": [
    "import json\n",
    "import os\n",
    "import pygarment.data_config as data_config\n",
    "from pathlib import Path\n",
    "from pygarment.meshgen.sim_config import PathCofig\n",
    "from pygarment.meshgen.boxmeshgen import BoxMesh\n",
    "from pygarment.meshgen.simulation import run_sim\n",
    "from tqdm import tqdm"
   ]
  },
  {
   "cell_type": "code",
   "execution_count": 2,
   "id": "a744a558",
   "metadata": {},
   "outputs": [],
   "source": [
    "PROJECT_ROOT = '/data/lixinag/project/GarmentCode'\n",
    "DATA_ROOT = f'{PROJECT_ROOT}/A_DATA/GarmentCodeData'\n",
    "SPLIT_FILE_PATH = f'{DATA_ROOT}/train_test_split.json'\n",
    "SIM_CONFIG_PATH = f'{PROJECT_ROOT}/assets/Sim_props/default_sim_props_modified.yaml'\n",
    "OUTPUT_PATH = f'{PROJECT_ROOT}/simulation_output/'\n",
    "BODY_DEFAULT_DIR = f'{PROJECT_ROOT}/A_RESULT/bodies'\n",
    "BODY_NAME = 'SMPL_FEMALE_A_POSE_110_ORI'"
   ]
  },
  {
   "cell_type": "code",
   "execution_count": 3,
   "id": "8d583e8c",
   "metadata": {},
   "outputs": [],
   "source": [
    "def get_input_file_path_pool(split_file_path, end_with='_specification.json'):\n",
    "    input_file_path_pool = []\n",
    "    with open(split_file_path, 'r') as f:\n",
    "        data = json.load(f)\n",
    "        for key_name in data.keys():\n",
    "            for file_path in data[key_name]:\n",
    "                file_id = file_path.split('/')[-1]\n",
    "                input_file_path_pool.append(Path(os.path.join(file_path, file_id + end_with)))\n",
    "    return input_file_path_pool\n",
    "\n",
    "input_file_path_pool = get_input_file_path_pool(SPLIT_FILE_PATH)"
   ]
  },
  {
   "cell_type": "code",
   "execution_count": 4,
   "id": "e59e5d84",
   "metadata": {},
   "outputs": [],
   "source": [
    "props = data_config.Properties(SIM_CONFIG_PATH)\n",
    "props.set_section_stats('sim', fails={}, sim_time={}, spf={}, fin_frame={}, body_collisions={}, self_collisions={})\n",
    "props.set_section_stats('render', render_time={})"
   ]
  },
  {
   "cell_type": "code",
   "execution_count": 5,
   "id": "20a3fff2",
   "metadata": {},
   "outputs": [
    {
     "data": {
      "text/plain": [
       "[PosixPath('garments_5000_0/default_body/rand_RVS1QWPXD0/rand_RVS1QWPXD0_specification.json'),\n",
       " PosixPath('garments_5000_0/default_body/rand_M4Z0YOEJ6V/rand_M4Z0YOEJ6V_specification.json'),\n",
       " PosixPath('garments_5000_0/default_body/rand_E489IFV849/rand_E489IFV849_specification.json')]"
      ]
     },
     "execution_count": 5,
     "metadata": {},
     "output_type": "execute_result"
    }
   ],
   "source": [
    "input_file_path_pool[0:3]"
   ]
  },
  {
   "cell_type": "code",
   "execution_count": null,
   "id": "a40f1d46",
   "metadata": {},
   "outputs": [],
   "source": [
    "t = Path(DATA_ROOT) / input_file_path_pool[0]\n"
   ]
  },
  {
   "cell_type": "code",
   "execution_count": 6,
   "id": "4dbd55d4",
   "metadata": {},
   "outputs": [
    {
     "name": "stderr",
     "output_type": "stream",
     "text": [
      "  0%|          | 0/115195 [00:00<?, ?it/s]"
     ]
    },
    {
     "name": "stdout",
     "output_type": "stream",
     "text": [
      "BoxMesh::rand_RVS1QWPXD0::WARNING::Path does not exist: /data/lixinag/project/GarmentCode/A_DATA/GarmentCodeData/garments_5000_0/default_body/rand_RVS1QWPXD0/design_params.yaml\n",
      "Module warp.sim.inertia load on device 'cuda:0' took 37.22 ms\n",
      "Module warp.collision.panel_assignment load on device 'cuda:0' took 6.58 ms\n",
      "sl_right_cuff_skirt_b:right_arm\n",
      "sl_right_cuff_skirt_f:right_arm\n",
      "right_sleeve_b:right_arm\n",
      "right_sleeve_f:right_arm\n",
      "right_btorso:body\n",
      "right_ftorso:body\n",
      "skirt_back:legs\n",
      "skirt_front:legs\n",
      "left_btorso:body\n",
      "left_ftorso:body\n",
      "left_sleeve_b:left_arm\n",
      "left_sleeve_f:left_arm\n",
      "sl_left_cuff_skirt_b:left_arm\n",
      "sl_left_cuff_skirt_f:left_arm\n",
      "Using attachment for lower_interface with 92 vertices\n",
      "Using attachment for right_collar with 28 vertices\n",
      "Using attachment for left_collar with 28 vertices\n",
      "Module warp.sim.utils load on device 'cuda:0' took 16.26 ms\n",
      "Module warp.utils load on device 'cuda:0' took 5.83 ms\n",
      "Module warp.sim.model load on device 'cuda:0' took 2.35 ms\n",
      "Module warp.sim.collide load on device 'cuda:0' took 131.83 ms\n",
      "Module warp.sim.optimizer load on device 'cuda:0' took 3.81 ms\n",
      "Module warp.sim.particles load on device 'cuda:0' took 6.50 ms\n",
      "Module warp.sim.integrator_euler load on device 'cuda:0' took 77.09 ms\n",
      "Module warp.sim.integrator_xpbd load on device 'cuda:0' took 142.87 ms\n",
      "Module warp.sim.articulation load on device 'cuda:0' took 64.89 ms\n",
      "Module warp.render.utils load on device 'cuda:0' took 6.35 ms\n",
      "Module warp.render.render_opengl load on device 'cuda:0' took 21.88 ms\n",
      "Module warp.sim.render load on device 'cuda:0' took 3.49 ms\n",
      "Simulation..\n",
      "Progress: [############--------------------------------------] 25.3%\n",
      "Static with 234 non-static vertices out of 18227\n",
      "BODY CLOTH INTERSECTIONS:  0\n",
      "Self-Intersecting with 46, is fail: False\n",
      "\n",
      "Simulation took #frames=609\n"
     ]
    },
    {
     "name": "stderr",
     "output_type": "stream",
     "text": [
      "  0%|          | 0/115195 [00:56<?, ?it/s]"
     ]
    },
    {
     "name": "stdout",
     "output_type": "stream",
     "text": [
      "Rendering rand_RVS1QWPXD0 took 1.720266342163086s\n",
      "\n",
      "Simulation pipeline took: 0 m 47.869 s\n"
     ]
    },
    {
     "name": "stderr",
     "output_type": "stream",
     "text": [
      "\n"
     ]
    },
    {
     "data": {
      "text/plain": [
       "('rand_RVS1QWPXD0', <pygarment.meshgen.sim_config.PathCofig at 0x7fd3301c0c10>)"
      ]
     },
     "execution_count": 6,
     "metadata": {},
     "output_type": "execute_result"
    }
   ],
   "source": [
    "for spec_path in tqdm(input_file_path_pool):\n",
    "    garment_name, _, _ = spec_path.stem.rpartition('_')\n",
    "    paths = PathCofig(\n",
    "        data_root_path=DATA_ROOT,\n",
    "        in_element_path=spec_path.parent,  \n",
    "        out_path=OUTPUT_PATH, \n",
    "        in_name=garment_name,\n",
    "        out_name=spec_path.parent,\n",
    "        body_default_dir=BODY_DEFAULT_DIR,\n",
    "        body_name=BODY_NAME,\n",
    "        smpl_body=True)\n",
    "\n",
    "    garment_box_mesh = BoxMesh(paths.in_g_spec, props['sim']['config']['resolution_scale'])\n",
    "    garment_box_mesh.load()\n",
    "    garment_box_mesh.serialize(\n",
    "        paths, store_panels=False, uv_config=props['render']['config']['uv_texture'])\n",
    "\n",
    "    props.serialize(paths.element_sim_props)\n",
    "\n",
    "    run_sim(\n",
    "        garment_box_mesh.name, \n",
    "        props, \n",
    "        paths,\n",
    "        save_v_norms=False,\n",
    "        store_usd=False,  # NOTE: False for fast simulation!\n",
    "        optimize_storage=False,\n",
    "        verbose=False\n",
    "    )\n",
    "\n",
    "    break\n",
    "\n",
    "garment_name, paths"
   ]
  }
 ],
 "metadata": {
  "kernelspec": {
   "display_name": "garmentcode",
   "language": "python",
   "name": "python3"
  },
  "language_info": {
   "codemirror_mode": {
    "name": "ipython",
    "version": 3
   },
   "file_extension": ".py",
   "mimetype": "text/x-python",
   "name": "python",
   "nbconvert_exporter": "python",
   "pygments_lexer": "ipython3",
   "version": "3.10.18"
  }
 },
 "nbformat": 4,
 "nbformat_minor": 5
}
